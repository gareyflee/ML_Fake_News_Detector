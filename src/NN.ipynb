{
  "nbformat": 4,
  "nbformat_minor": 0,
  "metadata": {
    "colab": {
      "name": "NN.ipynb",
      "provenance": [],
      "collapsed_sections": []
    },
    "kernelspec": {
      "name": "python3",
      "display_name": "Python 3"
    },
    "accelerator": "GPU"
  },
  "cells": [
    {
      "cell_type": "code",
      "metadata": {
        "id": "7dCywSV5Tnop",
        "colab_type": "code",
        "outputId": "3f566803-de55-4ea9-ff34-0e64050312b3",
        "colab": {
          "base_uri": "https://localhost:8080/",
          "height": 51
        }
      },
      "source": [
        "from google.colab import drive\n",
        "drive.mount('/content/gdrive')\n",
        "\n",
        "%cd '/content/gdrive/My Drive/ML_289_Final_Project/ML_Fake_News_Detector-master/'"
      ],
      "execution_count": 0,
      "outputs": [
        {
          "output_type": "stream",
          "text": [
            "Drive already mounted at /content/gdrive; to attempt to forcibly remount, call drive.mount(\"/content/gdrive\", force_remount=True).\n",
            "/content/gdrive/.shortcut-targets-by-id/1GN8bHASZPbpskLCKQbbuNezj76m4AVxc/ML_289_Final_Project/ML_Fake_News_Detector-master\n"
          ],
          "name": "stdout"
        }
      ]
    },
    {
      "cell_type": "code",
      "metadata": {
        "id": "08_bZyICTu4h",
        "colab_type": "code",
        "colab": {}
      },
      "source": [
        "%load_ext autoreload\n",
        "%autoreload 2\n",
        "\n",
        "#import classifier\n",
        "\n",
        "import torch\n",
        "import torch.nn as nn\n",
        "import torch.nn.functional as F\n",
        "import torch.optim as optim\n",
        "import matplotlib.pyplot as plt\n",
        "\n",
        "from src.data_util import Data \n",
        "DATA_DIR = './News-Media-Reliability/data/'\n",
        "corpus_filename = DATA_DIR + 'corpus.csv'"
      ],
      "execution_count": 0,
      "outputs": []
    },
    {
      "cell_type": "code",
      "metadata": {
        "id": "xXfcnBsZTxKD",
        "colab_type": "code",
        "outputId": "6261c07f-1089-4ddc-f772-d655d72e8b5a",
        "colab": {
          "base_uri": "https://localhost:8080/",
          "height": 1000
        }
      },
      "source": [
        "data_obj = Data(corpus_filename,DATA_DIR)\n",
        "\n",
        "tensor_x = torch.Tensor(data_obj.X)\n",
        "tensor_y_fact = torch.Tensor(data_obj.y['fact']).type(torch.LongTensor)\n",
        "tensor_y_bias = torch.Tensor(data_obj.y['bias']).type(torch.LongTensor)\n",
        "\n",
        "fact_dataset = torch.utils.data.TensorDataset(tensor_x,tensor_y_fact)\n",
        "bias_dataset = torch.utils.data.TensorDataset(tensor_x,tensor_y_bias)\n",
        "\n",
        "train_size = int(0.8 * len(fact_dataset))\n",
        "test_size = len(fact_dataset) - train_size\n",
        "fact_train_dataset, fact_test_dataset = torch.utils.data.random_split(fact_dataset, [train_size, test_size])\n",
        "bias_train_dataset, bias_test_dataset = torch.utils.data.random_split(bias_dataset, [train_size, test_size])\n",
        "\n",
        "fact_trainloader = torch.utils.data.DataLoader(fact_train_dataset, batch_size=4, shuffle=True, num_workers=2)\n",
        "fact_testloader = torch.utils.data.DataLoader(fact_test_dataset, batch_size=4, shuffle=False, num_workers=2)\n",
        "\n",
        "bias_trainloader = torch.utils.data.DataLoader(bias_train_dataset, batch_size=4, shuffle=True, num_workers=2)\n",
        "bias_testloader = torch.utils.data.DataLoader(bias_test_dataset, batch_size=4, shuffle=False, num_workers=2)\n",
        "\n",
        "fact_classes = ('low', 'mixed', 'high')\n",
        "bias_classes = ('extreme-right', 'right', 'center-right', 'center', 'center-left', 'left', 'extreme-left')"
      ],
      "execution_count": 0,
      "outputs": [
        {
          "output_type": "stream",
          "text": [
            "                                 source_url  ...           bias\n",
            "0              http://www.villagevoice.com/  ...           left\n",
            "1            https://insideclimatenews.org/  ...    left-center\n",
            "2                     http://www.fury.news/  ...  extreme-right\n",
            "3                      http://now8news.com/  ...         center\n",
            "4                  http://constitution.com/  ...  extreme-right\n",
            "...                                     ...  ...            ...\n",
            "1061               http://fusion.kinja.com/  ...    left-center\n",
            "1062                     http://aptnnews.ca  ...         center\n",
            "1063                    http://www.wsws.org  ...           left\n",
            "1064  https://www.spin.com/death-and-taxes/  ...           left\n",
            "1065                    http://www.aina.org  ...          right\n",
            "\n",
            "[1066 rows x 5 columns]\n",
            "Before 6.94930531520835e-310\n",
            "handcrafted_url.npy 44.0\n",
            "44.0 \n",
            "\n",
            "wikitoc.npy 6.0\n",
            "44.0 \n",
            "\n",
            "title.npy 47.5966625966626\n",
            "47.5966625966626 \n",
            "\n",
            "body.npy 2653.733333333333\n",
            "2653.733333333333 \n",
            "\n",
            "url_match.npy 6.0\n",
            "2653.733333333333 \n",
            "\n",
            "alexa.npy 6.0\n",
            "2653.733333333333 \n",
            "\n",
            "counts.npy 17.80293166154702\n",
            "2653.733333333333 \n",
            "\n",
            "wikicontent.npy 6.0\n",
            "2653.733333333333 \n",
            "\n",
            "wikisummary.npy 6.0\n",
            "2653.733333333333 \n",
            "\n",
            "has_wiki.npy 6.0\n",
            "2653.733333333333 \n",
            "\n",
            "wikicategories.npy 6.0\n",
            "2653.733333333333 \n",
            "\n",
            "created_at.npy 2031.0\n",
            "2653.733333333333 \n",
            "\n",
            "description.npy 6.0\n",
            "2653.733333333333 \n",
            "\n",
            "has_twitter.npy 6.0\n",
            "2653.733333333333 \n",
            "\n",
            "verified.npy 6.0\n",
            "2653.733333333333 \n",
            "\n",
            "has_location.npy 6.0\n",
            "2653.733333333333 \n",
            "\n",
            "After 2653.733333333333\n",
            "Data loaded. \n",
            "\tFeatures Shape:  (1066, 1808) \n",
            "\tBias Labels Shape:  (1066,) \n",
            "\tFactuality Labels Shape:  (1066,)\n"
          ],
          "name": "stdout"
        }
      ]
    },
    {
      "cell_type": "code",
      "metadata": {
        "id": "LoAtG9QZXTVK",
        "colab_type": "code",
        "colab": {}
      },
      "source": [
        "class FactNet(nn.Module):\n",
        "\n",
        "    def __init__(self):\n",
        "        super(FactNet, self).__init__()\n",
        "        self.fc1 = nn.Linear(1808, 900) \n",
        "        self.fc2 = nn.Linear(900, 3)\n",
        "        #self.fc3 = nn.Linear(600, 3)\n",
        "        #self.fc4 = nn.Linear(400, 3)\n",
        "\n",
        "    def forward(self, x):\n",
        "        x = F.relu(self.fc1(x))\n",
        "        #x = F.relu(self.fc2(x))\n",
        "        #x = F.relu(self.fc3(x))\n",
        "        x = F.softmax(self.fc2(x), dim = 1)\n",
        "        return x"
      ],
      "execution_count": 0,
      "outputs": []
    },
    {
      "cell_type": "code",
      "metadata": {
        "id": "OTwPj8ZbFNBK",
        "colab_type": "code",
        "colab": {}
      },
      "source": [
        "class BiasNet(nn.Module):\n",
        "\n",
        "    def __init__(self):\n",
        "        super(BiasNet, self).__init__()\n",
        "        self.fc1 = nn.Linear(1808, 900) \n",
        "        self.fc2 = nn.Linear(900, 7)\n",
        "\n",
        "    def forward(self, x):\n",
        "        x = F.relu(self.fc1(x))\n",
        "        x = F.softmax(self.fc2(x), dim = 1)\n",
        "        return x"
      ],
      "execution_count": 0,
      "outputs": []
    },
    {
      "cell_type": "code",
      "metadata": {
        "id": "KlJuG9zFkc7a",
        "colab_type": "code",
        "colab": {}
      },
      "source": [
        "def calc_accuracy(net, data_loader):\n",
        "  correct = 0\n",
        "  total = 0\n",
        "  with torch.no_grad():\n",
        "      for data in data_loader:\n",
        "          images, labels = data\n",
        "          outputs = net(images)\n",
        "          _, predicted = torch.max(outputs.data, 1)\n",
        "          total += labels.size(0)\n",
        "          correct += (predicted == labels).sum().item()\n",
        "\n",
        "  print('Accuracy of the network on the %d test images: %.3f %%' % (total,\n",
        "      100 * correct / total))\n",
        "  return correct / total"
      ],
      "execution_count": 0,
      "outputs": []
    },
    {
      "cell_type": "code",
      "metadata": {
        "id": "MNUdVP7QZhi-",
        "colab_type": "code",
        "colab": {}
      },
      "source": [
        "fact_net = FactNet()\n",
        "bias_net = BiasNet()\n",
        "criterion = nn.CrossEntropyLoss()\n",
        "fact_optimizer = optim.Adam(fact_net.parameters(), lr=0.00001)\n",
        "bias_optimizer = optim.Adam(bias_net.parameters(), lr=0.00001)"
      ],
      "execution_count": 0,
      "outputs": []
    },
    {
      "cell_type": "code",
      "metadata": {
        "id": "MS4RDMEk0Zzg",
        "colab_type": "code",
        "outputId": "9cbd66bb-9b7e-46ee-cf5c-6f634097d139",
        "colab": {
          "base_uri": "https://localhost:8080/",
          "height": 1000
        }
      },
      "source": [
        "loss_values = []\n",
        "train_acc_f = []\n",
        "val_acc_f = []\n",
        "for epoch in range(30): \n",
        "\n",
        "    running_loss = 0.0\n",
        "    total = 0\n",
        "    for i, data in enumerate(fact_trainloader, 0):\n",
        "        inputs, labels = data\n",
        "        fact_optimizer.zero_grad()\n",
        "\n",
        "        outputs = fact_net(inputs)\n",
        "        loss = criterion(outputs, labels)\n",
        "        loss.backward()\n",
        "        fact_optimizer.step()\n",
        "\n",
        "        running_loss += loss.item()\n",
        "        total += labels.size(0)\n",
        "\n",
        "    print('Loss at epoch %d : %.3f' % (epoch, running_loss/total))\n",
        "    loss_values.append(running_loss/total)\n",
        "    train_acc_f.append(calc_accuracy(fact_net, fact_trainloader))\n",
        "    val_acc_f.append(calc_accuracy(fact_net, fact_testloader))\n",
        "\n",
        "print('Finished Fact Training')\n",
        "plt.plot(loss_values)"
      ],
      "execution_count": 0,
      "outputs": [
        {
          "output_type": "stream",
          "text": [
            "Loss at epoch 0 : 0.260\n",
            "Accuracy of the network on the 852 test images: 49.765 %\n",
            "Accuracy of the network on the 214 test images: 52.804 %\n",
            "Loss at epoch 1 : 0.249\n",
            "Accuracy of the network on the 852 test images: 60.563 %\n",
            "Accuracy of the network on the 214 test images: 59.346 %\n",
            "Loss at epoch 2 : 0.241\n",
            "Accuracy of the network on the 852 test images: 61.385 %\n",
            "Accuracy of the network on the 214 test images: 57.477 %\n",
            "Loss at epoch 3 : 0.239\n",
            "Accuracy of the network on the 852 test images: 61.620 %\n",
            "Accuracy of the network on the 214 test images: 58.879 %\n",
            "Loss at epoch 4 : 0.238\n",
            "Accuracy of the network on the 852 test images: 60.798 %\n",
            "Accuracy of the network on the 214 test images: 60.280 %\n",
            "Loss at epoch 5 : 0.235\n",
            "Accuracy of the network on the 852 test images: 62.089 %\n",
            "Accuracy of the network on the 214 test images: 61.215 %\n",
            "Loss at epoch 6 : 0.234\n",
            "Accuracy of the network on the 852 test images: 61.502 %\n",
            "Accuracy of the network on the 214 test images: 62.617 %\n",
            "Loss at epoch 7 : 0.235\n",
            "Accuracy of the network on the 852 test images: 61.854 %\n",
            "Accuracy of the network on the 214 test images: 61.682 %\n",
            "Loss at epoch 8 : 0.232\n",
            "Accuracy of the network on the 852 test images: 61.854 %\n",
            "Accuracy of the network on the 214 test images: 62.617 %\n",
            "Loss at epoch 9 : 0.232\n",
            "Accuracy of the network on the 852 test images: 61.737 %\n",
            "Accuracy of the network on the 214 test images: 61.215 %\n",
            "Loss at epoch 10 : 0.232\n",
            "Accuracy of the network on the 852 test images: 62.089 %\n",
            "Accuracy of the network on the 214 test images: 61.215 %\n",
            "Loss at epoch 11 : 0.232\n",
            "Accuracy of the network on the 852 test images: 62.676 %\n",
            "Accuracy of the network on the 214 test images: 62.150 %\n",
            "Loss at epoch 12 : 0.231\n",
            "Accuracy of the network on the 852 test images: 62.324 %\n",
            "Accuracy of the network on the 214 test images: 61.682 %\n",
            "Loss at epoch 13 : 0.233\n",
            "Accuracy of the network on the 852 test images: 63.146 %\n",
            "Accuracy of the network on the 214 test images: 62.150 %\n",
            "Loss at epoch 14 : 0.230\n",
            "Accuracy of the network on the 852 test images: 61.620 %\n",
            "Accuracy of the network on the 214 test images: 62.617 %\n",
            "Loss at epoch 15 : 0.229\n",
            "Accuracy of the network on the 852 test images: 61.972 %\n",
            "Accuracy of the network on the 214 test images: 62.150 %\n",
            "Loss at epoch 16 : 0.230\n",
            "Accuracy of the network on the 852 test images: 62.793 %\n",
            "Accuracy of the network on the 214 test images: 63.084 %\n",
            "Loss at epoch 17 : 0.228\n",
            "Accuracy of the network on the 852 test images: 61.150 %\n",
            "Accuracy of the network on the 214 test images: 60.280 %\n",
            "Loss at epoch 18 : 0.230\n",
            "Accuracy of the network on the 852 test images: 62.441 %\n",
            "Accuracy of the network on the 214 test images: 63.084 %\n",
            "Loss at epoch 19 : 0.228\n",
            "Accuracy of the network on the 852 test images: 64.085 %\n",
            "Accuracy of the network on the 214 test images: 63.551 %\n",
            "Loss at epoch 20 : 0.228\n",
            "Accuracy of the network on the 852 test images: 63.850 %\n",
            "Accuracy of the network on the 214 test images: 62.150 %\n",
            "Loss at epoch 21 : 0.228\n",
            "Accuracy of the network on the 852 test images: 63.732 %\n",
            "Accuracy of the network on the 214 test images: 62.617 %\n",
            "Loss at epoch 22 : 0.228\n",
            "Accuracy of the network on the 852 test images: 61.737 %\n",
            "Accuracy of the network on the 214 test images: 62.150 %\n",
            "Loss at epoch 23 : 0.228\n",
            "Accuracy of the network on the 852 test images: 63.028 %\n",
            "Accuracy of the network on the 214 test images: 63.084 %\n",
            "Loss at epoch 24 : 0.227\n",
            "Accuracy of the network on the 852 test images: 62.441 %\n",
            "Accuracy of the network on the 214 test images: 61.682 %\n",
            "Loss at epoch 25 : 0.227\n",
            "Accuracy of the network on the 852 test images: 64.554 %\n",
            "Accuracy of the network on the 214 test images: 62.150 %\n",
            "Loss at epoch 26 : 0.227\n",
            "Accuracy of the network on the 852 test images: 64.671 %\n",
            "Accuracy of the network on the 214 test images: 63.084 %\n",
            "Loss at epoch 27 : 0.227\n",
            "Accuracy of the network on the 852 test images: 65.023 %\n",
            "Accuracy of the network on the 214 test images: 62.150 %\n",
            "Loss at epoch 28 : 0.226\n",
            "Accuracy of the network on the 852 test images: 64.437 %\n",
            "Accuracy of the network on the 214 test images: 60.280 %\n",
            "Loss at epoch 29 : 0.227\n",
            "Accuracy of the network on the 852 test images: 65.141 %\n",
            "Accuracy of the network on the 214 test images: 63.084 %\n",
            "Finished Fact Training\n"
          ],
          "name": "stdout"
        },
        {
          "output_type": "execute_result",
          "data": {
            "text/plain": [
              "[<matplotlib.lines.Line2D at 0x7fec94752940>]"
            ]
          },
          "metadata": {
            "tags": []
          },
          "execution_count": 8
        },
        {
          "output_type": "display_data",
          "data": {
            "image/png": "[encoded data removed]",
            "text/plain": [
              "<Figure size 432x288 with 1 Axes>"
            ]
          },
          "metadata": {
            "tags": [],
            "needs_background": "light"
          }
        }
      ]
    },
    {
      "cell_type": "code",
      "metadata": {
        "id": "Kgy0l8LKpm85",
        "colab_type": "code",
        "outputId": "59c10249-8561-4dfd-a700-f1c389eaf65e",
        "colab": {
          "base_uri": "https://localhost:8080/",
          "height": 404
        }
      },
      "source": [
        "\n",
        "fig, (ax1, ax2) = plt.subplots(1, 2)\n",
        "fig.set_figheight(6)\n",
        "fig.set_figwidth(16)\n",
        "ax1.set_title(\"Validation Accuracy vs. Epochs for Factuality Neural Net\")\n",
        "ax2.set_title(\"Validation Accuracy vs. Epochs for Bias Neural Net\")\n",
        "ax1.plot(train_acc_f, 'r', label = \"Training Accuracy\")\n",
        "ax1.plot(val_acc_f, 'g', label = \"Validation Accuracy\")\n",
        "ax1.set_xlabel(\"Epochs\")\n",
        "ax1.set_ylabel(\"Accuracy\")\n",
        "ax1.legend()\n",
        "ax2.plot(train_acc_b, 'r', label = \"Training Accuracy\")\n",
        "ax2.plot(val_acc_b, 'g', label = \"Validation Accuracy\")\n",
        "ax2.set_xlabel(\"Epochs\")\n",
        "ax2.set_ylabel(\"Accuracy\")\n",
        "ax2.legend();\n"
      ],
      "execution_count": 0,
      "outputs": [
        {
          "output_type": "display_data",
          "data": {
            "image/png": "[encoded data removed]",
            "text/plain": [
              "<Figure size 1152x432 with 2 Axes>"
            ]
          },
          "metadata": {
            "tags": [],
            "needs_background": "light"
          }
        }
      ]
    },
    {
      "cell_type": "code",
      "metadata": {
        "id": "cpnwIK5V2_Ya",
        "colab_type": "code",
        "outputId": "d76a0f74-be84-4b3f-9ae7-db7f0c99f437",
        "colab": {
          "base_uri": "https://localhost:8080/",
          "height": 1000
        }
      },
      "source": [
        "loss_values = []\n",
        "train_acc_b = []\n",
        "val_acc_b = []\n",
        "for epoch in range(40): \n",
        "\n",
        "    running_loss = 0.0\n",
        "    total = 0\n",
        "    for i, data in enumerate(bias_trainloader, 0):\n",
        "        inputs, labels = data\n",
        "        bias_optimizer.zero_grad()\n",
        "\n",
        "        outputs = bias_net(inputs)\n",
        "        loss = criterion(outputs, labels)\n",
        "        loss.backward()\n",
        "        bias_optimizer.step()\n",
        "\n",
        "        running_loss += loss.item()\n",
        "        total += labels.size(0)\n",
        "\n",
        "    print('Loss at epoch %d : %.3f' % (epoch, running_loss/total))\n",
        "    loss_values.append(running_loss/total)\n",
        "    train_acc_b.append(calc_accuracy(bias_net, bias_trainloader))\n",
        "    val_acc_b.append(calc_accuracy(bias_net, bias_testloader))\n",
        "\n",
        "print('Finished Bias Training')\n",
        "plt.plot(loss_values);"
      ],
      "execution_count": 0,
      "outputs": [
        {
          "output_type": "stream",
          "text": [
            "Loss at epoch 0 : 0.507\n",
            "Accuracy of the network on the 852 test images: 16.901 %\n",
            "Accuracy of the network on the 214 test images: 17.757 %\n",
            "Loss at epoch 1 : 0.494\n",
            "Accuracy of the network on the 852 test images: 17.254 %\n",
            "Accuracy of the network on the 214 test images: 18.692 %\n",
            "Loss at epoch 2 : 0.493\n",
            "Accuracy of the network on the 852 test images: 18.662 %\n",
            "Accuracy of the network on the 214 test images: 19.159 %\n",
            "Loss at epoch 3 : 0.486\n",
            "Accuracy of the network on the 852 test images: 23.005 %\n",
            "Accuracy of the network on the 214 test images: 20.561 %\n",
            "Loss at epoch 4 : 0.483\n",
            "Accuracy of the network on the 852 test images: 22.770 %\n",
            "Accuracy of the network on the 214 test images: 18.692 %\n",
            "Loss at epoch 5 : 0.485\n",
            "Accuracy of the network on the 852 test images: 23.474 %\n",
            "Accuracy of the network on the 214 test images: 19.626 %\n",
            "Loss at epoch 6 : 0.483\n",
            "Accuracy of the network on the 852 test images: 23.239 %\n",
            "Accuracy of the network on the 214 test images: 19.159 %\n",
            "Loss at epoch 7 : 0.482\n",
            "Accuracy of the network on the 852 test images: 23.239 %\n",
            "Accuracy of the network on the 214 test images: 20.561 %\n",
            "Loss at epoch 8 : 0.483\n",
            "Accuracy of the network on the 852 test images: 18.779 %\n",
            "Accuracy of the network on the 214 test images: 18.224 %\n",
            "Loss at epoch 9 : 0.480\n",
            "Accuracy of the network on the 852 test images: 24.178 %\n",
            "Accuracy of the network on the 214 test images: 23.364 %\n",
            "Loss at epoch 10 : 0.476\n",
            "Accuracy of the network on the 852 test images: 28.052 %\n",
            "Accuracy of the network on the 214 test images: 25.234 %\n",
            "Loss at epoch 11 : 0.473\n",
            "Accuracy of the network on the 852 test images: 27.347 %\n",
            "Accuracy of the network on the 214 test images: 24.766 %\n",
            "Loss at epoch 12 : 0.469\n",
            "Accuracy of the network on the 852 test images: 30.399 %\n",
            "Accuracy of the network on the 214 test images: 25.701 %\n",
            "Loss at epoch 13 : 0.468\n",
            "Accuracy of the network on the 852 test images: 30.047 %\n",
            "Accuracy of the network on the 214 test images: 25.701 %\n",
            "Loss at epoch 14 : 0.466\n",
            "Accuracy of the network on the 852 test images: 30.634 %\n",
            "Accuracy of the network on the 214 test images: 28.037 %\n",
            "Loss at epoch 15 : 0.466\n",
            "Accuracy of the network on the 852 test images: 31.690 %\n",
            "Accuracy of the network on the 214 test images: 27.570 %\n",
            "Loss at epoch 16 : 0.465\n",
            "Accuracy of the network on the 852 test images: 31.808 %\n",
            "Accuracy of the network on the 214 test images: 28.037 %\n",
            "Loss at epoch 17 : 0.465\n",
            "Accuracy of the network on the 852 test images: 30.986 %\n",
            "Accuracy of the network on the 214 test images: 28.037 %\n",
            "Loss at epoch 18 : 0.465\n",
            "Accuracy of the network on the 852 test images: 30.516 %\n",
            "Accuracy of the network on the 214 test images: 26.636 %\n",
            "Loss at epoch 19 : 0.464\n",
            "Accuracy of the network on the 852 test images: 31.338 %\n",
            "Accuracy of the network on the 214 test images: 28.037 %\n",
            "Loss at epoch 20 : 0.464\n",
            "Accuracy of the network on the 852 test images: 31.338 %\n",
            "Accuracy of the network on the 214 test images: 28.037 %\n",
            "Loss at epoch 21 : 0.464\n",
            "Accuracy of the network on the 852 test images: 31.690 %\n",
            "Accuracy of the network on the 214 test images: 27.570 %\n",
            "Loss at epoch 22 : 0.463\n",
            "Accuracy of the network on the 852 test images: 31.455 %\n",
            "Accuracy of the network on the 214 test images: 27.570 %\n",
            "Loss at epoch 23 : 0.463\n",
            "Accuracy of the network on the 852 test images: 29.812 %\n",
            "Accuracy of the network on the 214 test images: 25.234 %\n",
            "Loss at epoch 24 : 0.463\n",
            "Accuracy of the network on the 852 test images: 30.986 %\n",
            "Accuracy of the network on the 214 test images: 26.636 %\n",
            "Loss at epoch 25 : 0.462\n",
            "Accuracy of the network on the 852 test images: 33.685 %\n",
            "Accuracy of the network on the 214 test images: 24.766 %\n",
            "Loss at epoch 26 : 0.457\n",
            "Accuracy of the network on the 852 test images: 34.038 %\n",
            "Accuracy of the network on the 214 test images: 25.701 %\n",
            "Loss at epoch 27 : 0.454\n",
            "Accuracy of the network on the 852 test images: 33.568 %\n",
            "Accuracy of the network on the 214 test images: 30.374 %\n",
            "Loss at epoch 28 : 0.454\n",
            "Accuracy of the network on the 852 test images: 34.507 %\n",
            "Accuracy of the network on the 214 test images: 33.178 %\n",
            "Loss at epoch 29 : 0.454\n",
            "Accuracy of the network on the 852 test images: 32.746 %\n",
            "Accuracy of the network on the 214 test images: 22.897 %\n",
            "Loss at epoch 30 : 0.453\n",
            "Accuracy of the network on the 852 test images: 34.390 %\n",
            "Accuracy of the network on the 214 test images: 25.701 %\n",
            "Loss at epoch 31 : 0.454\n",
            "Accuracy of the network on the 852 test images: 37.324 %\n",
            "Accuracy of the network on the 214 test images: 30.374 %\n",
            "Loss at epoch 32 : 0.452\n",
            "Accuracy of the network on the 852 test images: 32.629 %\n",
            "Accuracy of the network on the 214 test images: 23.832 %\n",
            "Loss at epoch 33 : 0.452\n",
            "Accuracy of the network on the 852 test images: 36.033 %\n",
            "Accuracy of the network on the 214 test images: 26.168 %\n",
            "Loss at epoch 34 : 0.451\n",
            "Accuracy of the network on the 852 test images: 36.854 %\n",
            "Accuracy of the network on the 214 test images: 34.579 %\n",
            "Loss at epoch 35 : 0.451\n",
            "Accuracy of the network on the 852 test images: 36.502 %\n",
            "Accuracy of the network on the 214 test images: 26.636 %\n",
            "Loss at epoch 36 : 0.450\n",
            "Accuracy of the network on the 852 test images: 33.803 %\n",
            "Accuracy of the network on the 214 test images: 29.907 %\n",
            "Loss at epoch 37 : 0.451\n",
            "Accuracy of the network on the 852 test images: 35.329 %\n",
            "Accuracy of the network on the 214 test images: 32.710 %\n",
            "Loss at epoch 38 : 0.449\n",
            "Accuracy of the network on the 852 test images: 35.681 %\n",
            "Accuracy of the network on the 214 test images: 28.037 %\n",
            "Loss at epoch 39 : 0.449\n",
            "Accuracy of the network on the 852 test images: 38.498 %\n",
            "Accuracy of the network on the 214 test images: 30.374 %\n",
            "Finished Bias Training\n"
          ],
          "name": "stdout"
        },
        {
          "output_type": "display_data",
          "data": {
            "image/png": "[encoded data removed]",
            "text/plain": [
              "<Figure size 432x288 with 1 Axes>"
            ]
          },
          "metadata": {
            "tags": [],
            "needs_background": "light"
          }
        }
      ]
    },
    {
      "cell_type": "code",
      "metadata": {
        "id": "k0freia4pt6q",
        "colab_type": "code",
        "outputId": "2929ad30-7e07-4a58-ec9d-cc5d16d05b1a",
        "colab": {
          "base_uri": "https://localhost:8080/",
          "height": 282
        }
      },
      "source": [
        "plt.plot(train_acc_b)\n",
        "plt.plot(val_acc_b)"
      ],
      "execution_count": 0,
      "outputs": [
        {
          "output_type": "execute_result",
          "data": {
            "text/plain": [
              "[<matplotlib.lines.Line2D at 0x7fec94ff6908>]"
            ]
          },
          "metadata": {
            "tags": []
          },
          "execution_count": 11
        },
        {
          "output_type": "display_data",
          "data": {
            "image/png": "[encoded data removed]",
            "text/plain": [
              "<Figure size 432x288 with 1 Axes>"
            ]
          },
          "metadata": {
            "tags": [],
            "needs_background": "light"
          }
        }
      ]
    },
    {
      "cell_type": "code",
      "metadata": {
        "id": "HLxnzUuw9p1s",
        "colab_type": "code",
        "outputId": "5476367b-414f-4ef9-d243-8412141df1fa",
        "colab": {
          "base_uri": "https://localhost:8080/",
          "height": 34
        }
      },
      "source": [
        "correct = 0\n",
        "total = 0\n",
        "with torch.no_grad():\n",
        "    for data in fact_testloader:\n",
        "        images, labels = data\n",
        "        outputs = fact_net(images)\n",
        "        _, predicted = torch.max(outputs.data, 1)\n",
        "        total += labels.size(0)\n",
        "        correct += (predicted == labels).sum().item()\n",
        "\n",
        "print('Accuracy of the network on the %d test images: %.3f %%' % (total,\n",
        "    100 * correct / total))"
      ],
      "execution_count": 0,
      "outputs": [
        {
          "output_type": "stream",
          "text": [
            "Accuracy of the network on the 214 test images: 63.084 %\n"
          ],
          "name": "stdout"
        }
      ]
    },
    {
      "cell_type": "code",
      "metadata": {
        "id": "biY0PKJk-NPa",
        "colab_type": "code",
        "outputId": "2651c088-1349-4276-cad8-2f9b41b32ba4",
        "colab": {
          "base_uri": "https://localhost:8080/",
          "height": 34
        }
      },
      "source": [
        "correct = 0\n",
        "total = 0\n",
        "with torch.no_grad():\n",
        "    for data in bias_testloader:\n",
        "        images, labels = data\n",
        "        outputs = bias_net(images)\n",
        "        _, predicted = torch.max(outputs.data, 1)\n",
        "        total += labels.size(0)\n",
        "        correct += (predicted == labels).sum().item()\n",
        "\n",
        "print('Accuracy of the network on the %d test images: %.3f %%' % (total,\n",
        "    100 * correct / total))"
      ],
      "execution_count": 0,
      "outputs": [
        {
          "output_type": "stream",
          "text": [
            "Accuracy of the network on the 214 test images: 30.374 %\n"
          ],
          "name": "stdout"
        }
      ]
    },
    {
      "cell_type": "code",
      "metadata": {
        "id": "-rmhbZqI-fZi",
        "colab_type": "code",
        "outputId": "9033b709-9895-419c-b62b-2367550b3d6a",
        "colab": {
          "base_uri": "https://localhost:8080/",
          "height": 68
        }
      },
      "source": [
        "class_correct = list(0. for i in range(len(fact_classes)))\n",
        "class_total = list(0. for i in range(len(fact_classes)))\n",
        "with torch.no_grad():\n",
        "    for data in fact_testloader:\n",
        "        images, labels = data\n",
        "        outputs = fact_net(images)\n",
        "        _, predicted = torch.max(outputs, 1)\n",
        "        c = (predicted == labels).squeeze()\n",
        "        for i in range(len(labels)):\n",
        "            label = labels[i]\n",
        "            class_correct[label] += c[i].item()\n",
        "            class_total[label] += 1\n",
        "\n",
        "\n",
        "for i in range(len(fact_classes)):\n",
        "    print('Accuracy of %5s : %2d %%' % (\n",
        "        fact_classes[i], 100 * class_correct[i] / class_total[i]))"
      ],
      "execution_count": 0,
      "outputs": [
        {
          "output_type": "stream",
          "text": [
            "Accuracy of   low : 66 %\n",
            "Accuracy of mixed :  0 %\n",
            "Accuracy of  high : 92 %\n"
          ],
          "name": "stdout"
        }
      ]
    },
    {
      "cell_type": "code",
      "metadata": {
        "id": "HuClkIRDAACX",
        "colab_type": "code",
        "outputId": "1c9d12e8-7569-4814-863a-b0151eb78857",
        "colab": {
          "base_uri": "https://localhost:8080/",
          "height": 136
        }
      },
      "source": [
        "class_correct = list(0. for i in range(len(bias_classes)))\n",
        "class_total = list(0. for i in range(len(bias_classes)))\n",
        "with torch.no_grad():\n",
        "    for data in bias_testloader:\n",
        "        images, labels = data\n",
        "        outputs = bias_net(images)\n",
        "        _, predicted = torch.max(outputs, 1)\n",
        "        c = (predicted == labels).squeeze()\n",
        "        for i in range(len(labels)):\n",
        "            label = labels[i]\n",
        "            class_correct[label] += c[i].item()\n",
        "            class_total[label] += 1\n",
        "\n",
        "\n",
        "for i in range(len(bias_classes)):\n",
        "    print('Accuracy of %5s : %2d %%' % (\n",
        "        bias_classes[i], 100 * class_correct[i] / class_total[i]))"
      ],
      "execution_count": 0,
      "outputs": [
        {
          "output_type": "stream",
          "text": [
            "Accuracy of extreme-right : 50 %\n",
            "Accuracy of right :  0 %\n",
            "Accuracy of center-right :  0 %\n",
            "Accuracy of center : 62 %\n",
            "Accuracy of center-left : 37 %\n",
            "Accuracy of  left : 17 %\n",
            "Accuracy of extreme-left :  0 %\n"
          ],
          "name": "stdout"
        }
      ]
    },
    {
      "cell_type": "code",
      "metadata": {
        "id": "tCuUFLnST5Kp",
        "colab_type": "code",
        "colab": {}
      },
      "source": [
        "# x = torch.randn(1)\n",
        "# print(x)\n",
        "# print(x.item())\n",
        "\n",
        "# if torch.cuda.is_available():\n",
        "#     device = torch.device(\"cuda\")        \n",
        "#     y = torch.ones_like(x, device=device)  \n",
        "#     x = x.to(device)                       \n",
        "#     z = x + y\n",
        "#     print(z)\n",
        "#     print(z.to(\"cpu\", torch.double)) "
      ],
      "execution_count": 0,
      "outputs": []
    },
    {
      "cell_type": "code",
      "metadata": {
        "id": "wyqdwTE0U7Yt",
        "colab_type": "code",
        "colab": {}
      },
      "source": [
        ""
      ],
      "execution_count": 0,
      "outputs": []
    }
  ]
}